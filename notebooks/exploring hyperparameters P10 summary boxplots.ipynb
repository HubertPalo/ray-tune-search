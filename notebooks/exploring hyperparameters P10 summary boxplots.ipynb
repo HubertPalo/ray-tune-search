{
 "cells": [
  {
   "cell_type": "code",
   "execution_count": 124,
   "metadata": {},
   "outputs": [],
   "source": [
    "import pandas as pd\n",
    "import numpy as np\n",
    "import matplotlib.pyplot as plt\n",
    "import yaml"
   ]
  },
  {
   "cell_type": "markdown",
   "metadata": {},
   "source": [
    "# FIXED PERCENTAGE"
   ]
  },
  {
   "cell_type": "code",
   "execution_count": 125,
   "metadata": {},
   "outputs": [],
   "source": [
    "def fixed_percentage(\n",
    "        datasets=['kuhar', 'motionsense', 'uci', 'wisdm', 'realworld_thigh', 'realworld_waist'],\n",
    "        models=['ae', 'tae', 'convae', 'convtae', 'umap'],\n",
    "        markers = ['d', 's', 'p', 'h', 'o'],\n",
    "        percentages=[25, 50, 75, 100, 200],\n",
    "        colors = ['blue', 'orange', 'lightgreen', 'darkgreen', 'purple'],\n",
    "        y_lim = [0, 1],\n",
    "        interval_length=250\n",
    "        ):\n",
    "    \"\"\"\n",
    "    Plots the best accuracy for each model and dataset for a fixed percentage of the dataset.\n",
    "    \"\"\"\n",
    "    for dataset in datasets:\n",
    "        with open(f'../execute_once_experiments/_previous/TV_sb_no_reducer/scores/no_reducer_{dataset}.yaml') as f:\n",
    "            no_reducer_score = yaml.load(f, Loader=yaml.FullLoader)\n",
    "            no_reducer_score = no_reducer_score['score']\n",
    "        fig = plt.figure(figsize=(18, 8))\n",
    "        fig.tight_layout(rect=[0, 0.03, 1, 0.95])\n",
    "        gs = fig.add_gridspec(ncols=len(models), wspace=0)\n",
    "        axs = gs.subplots(sharex=False, sharey=True)\n",
    "        axs[0].set_ylabel(f'Best accuracy')\n",
    "        axs[0].set_ylim(y_lim)\n",
    "        # fig, axs = plt.subplots(1, len(models), figsize=(15, 8))\n",
    "        plt.suptitle(f'Summary boxplots on {dataset}')\n",
    "        plt.rcParams.update({'font.size': 22})\n",
    "        for m_index, model in enumerate(models):\n",
    "            axs[m_index].plot([-0.5, len(percentages)-0.5], [no_reducer_score, no_reducer_score], color='red', linewidth=2, label='No reducer')\n",
    "            ticks = []\n",
    "            ticks_labels = []\n",
    "            for p_index, percentage in enumerate(percentages):\n",
    "                experiment_name = f'P10_{model}_{dataset}_p{percentage}'\n",
    "                if model == 'umap':\n",
    "                    experiment_name = experiment_name[4:]\n",
    "                try:\n",
    "                    data = pd.read_csv(f'../experiments/{experiment_name}/data.csv')\n",
    "                    data = data.loc[data['score'] > 0]\n",
    "                except:\n",
    "                    data = pd.DataFrame({'Unnamed: 0': [], 'score': []})\n",
    "                ticks.append(p_index)\n",
    "                ticks_labels.append(f'{percentage}')\n",
    "                axs[m_index].boxplot(\n",
    "                    data['score'],\n",
    "                    widths = 0.6,\n",
    "                    positions=[p_index],\n",
    "                    patch_artist=True,\n",
    "                    boxprops = dict(facecolor = colors[m_index])\n",
    "                )\n",
    "            axs[m_index].set_xticks(ticks, ticks_labels)\n",
    "            axs[m_index].set_xlabel(f'{model}')\n",
    "            axs[m_index].grid()\n",
    "            axs[m_index].set_xlim([-0.5, len(percentages)-0.5])\n",
    "        plt.savefig(f'summary-boxplot-{dataset}.png', transparent=True)"
   ]
  },
  {
   "cell_type": "code",
   "execution_count": 126,
   "metadata": {},
   "outputs": [],
   "source": [
    "fixed_percentage(datasets=['kuhar', 'motionsense', 'uci', 'wisdm', 'realworld_thigh', 'realworld_waist'])"
   ]
  }
 ],
 "metadata": {
  "kernelspec": {
   "display_name": "Python 3",
   "language": "python",
   "name": "python3"
  },
  "language_info": {
   "codemirror_mode": {
    "name": "ipython",
    "version": 3
   },
   "file_extension": ".py",
   "mimetype": "text/x-python",
   "name": "python",
   "nbconvert_exporter": "python",
   "pygments_lexer": "ipython3",
   "version": "3.11.6"
  },
  "orig_nbformat": 4
 },
 "nbformat": 4,
 "nbformat_minor": 2
}
