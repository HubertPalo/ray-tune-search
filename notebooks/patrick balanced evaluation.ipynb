{
 "cells": [
  {
   "cell_type": "code",
   "execution_count": 7,
   "metadata": {},
   "outputs": [],
   "source": [
    "import pandas as pd\n",
    "import numpy as np\n",
    "import matplotlib.pyplot as plt\n",
    "import yaml\n",
    "from tabulate import tabulate"
   ]
  },
  {
   "cell_type": "code",
   "execution_count": 11,
   "metadata": {},
   "outputs": [],
   "source": [
    "dataset_names = ['kuhar', 'motionsense', 'uci', 'wisdm', 'realworld_thigh', 'realworld_waist']"
   ]
  },
  {
   "cell_type": "markdown",
   "metadata": {},
   "source": [
    "# 1 - No reducer"
   ]
  },
  {
   "cell_type": "code",
   "execution_count": 12,
   "metadata": {},
   "outputs": [
    {
     "name": "stdout",
     "output_type": "stream",
     "text": [
      "+-----------------+----------+-------------+\n",
      "| dataset         |    b_old |   b_patrick |\n",
      "|-----------------+----------+-------------|\n",
      "| kuhar           | 0.671127 |    0.693897 |\n",
      "| motionsense     | 0.785952 |    0.899333 |\n",
      "| uci             | 0.847059 |    0.857059 |\n",
      "| wisdm           | 0.747373 |    0.745847 |\n",
      "| realworld_thigh | 0.671521 |    0.576037 |\n",
      "| realworld_waist | 0.787217 |    0.790939 |\n",
      "+-----------------+----------+-------------+\n"
     ]
    }
   ],
   "source": [
    "data = []\n",
    "for dataset in dataset_names:\n",
    "    unit = {}\n",
    "    unit['dataset'] = dataset\n",
    "    with open(f'../execute_once_experiments/scores/no_reducer_{dataset}.yaml', 'r') as f:\n",
    "        score = yaml.load(f, Loader=yaml.FullLoader)\n",
    "        unit['b_old'] = score['score']\n",
    "    with open(f'../execute_once_experiments/scores/balanced_patrick_no_reducer_{dataset}.yaml', 'r') as f:\n",
    "        score = yaml.load(f, Loader=yaml.FullLoader)\n",
    "        unit['b_patrick'] = score['score']\n",
    "    data.append(unit)\n",
    "print(tabulate(data, headers='keys', tablefmt='psql'))"
   ]
  },
  {
   "cell_type": "code",
   "execution_count": null,
   "metadata": {},
   "outputs": [],
   "source": []
  }
 ],
 "metadata": {
  "kernelspec": {
   "display_name": "Python 3",
   "language": "python",
   "name": "python3"
  },
  "language_info": {
   "codemirror_mode": {
    "name": "ipython",
    "version": 3
   },
   "file_extension": ".py",
   "mimetype": "text/x-python",
   "name": "python",
   "nbconvert_exporter": "python",
   "pygments_lexer": "ipython3",
   "version": "3.11.5"
  },
  "orig_nbformat": 4
 },
 "nbformat": 4,
 "nbformat_minor": 2
}
