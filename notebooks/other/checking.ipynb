{
 "cells": [
  {
   "cell_type": "markdown",
   "metadata": {},
   "source": [
    "# Checking the experiments are ok"
   ]
  },
  {
   "cell_type": "code",
   "execution_count": 141,
   "metadata": {},
   "outputs": [],
   "source": [
    "import os\n",
    "from tabulate import tabulate\n",
    "import pandas as pd\n",
    "import yaml"
   ]
  },
  {
   "cell_type": "markdown",
   "metadata": {},
   "source": [
    "## Checking the datasets"
   ]
  },
  {
   "cell_type": "code",
   "execution_count": 142,
   "metadata": {},
   "outputs": [],
   "source": [
    "datasets = ['kuhar', 'motionsense', 'uci', 'wisdm', 'realworld_thigh', 'realworld_waist']\n",
    "models = ['umap', 'ae', 'tae', 'convae', 'convtae']\n",
    "percentages = [25, 50, 75, 100, 200]\n",
    "experiment_name_template = '{model}_{dataset}_p{percentage}'"
   ]
  },
  {
   "cell_type": "markdown",
   "metadata": {},
   "source": [
    "### Helper functions"
   ]
  },
  {
   "cell_type": "code",
   "execution_count": 143,
   "metadata": {},
   "outputs": [],
   "source": [
    "def check_base_config_file(route, dataset):\n",
    "    try:\n",
    "        # Read base config\n",
    "        with open(route, 'r') as f:\n",
    "            base_config = yaml.load(f, Loader=yaml.FullLoader)\n",
    "            # Only 1 reducer, train and test dataset\n",
    "            reducer_datasets = base_config['reducer_dataset']\n",
    "            train_datasets = base_config['train_dataset']\n",
    "            test_datasets = base_config['test_dataset']\n",
    "            if len(reducer_datasets) != 1:\n",
    "                return False\n",
    "            if len(train_datasets) != 1:\n",
    "                return False\n",
    "            if len(test_datasets) != 1:\n",
    "                return False\n",
    "            reducer_dataset = reducer_datasets[0].split('.')[0]\n",
    "            train_dataset = train_datasets[0].split('.')[0]\n",
    "            test_dataset = test_datasets[0].split('.')[0]\n",
    "            # Check if reducer, train and test dataset are the same as the ones in the experiment name\n",
    "            if reducer_dataset != dataset:\n",
    "                return False\n",
    "            if train_dataset != dataset:\n",
    "                return False\n",
    "            if test_dataset != dataset:\n",
    "                return False\n",
    "            return True\n",
    "            # print(reducer_dataset, base_config['train_dataset'], base_config['test_dataset'], dataset)\n",
    "    except Exception as e:\n",
    "        print(e)\n",
    "        print('Error reading config files')\n",
    "    return False\n",
    "\n",
    "def check_exploration_config_file(route, reducer, percentage):\n",
    "    try:\n",
    "        # Read exploration config\n",
    "        with open(route, 'r') as f:\n",
    "            exploration_config = yaml.load(f, Loader=yaml.FullLoader)\n",
    "            if reducer == 'umap':\n",
    "                tune_parameters = exploration_config['search_space']['umap_ncomp']['tune_parameters']\n",
    "            else:\n",
    "                tune_parameters = exploration_config['search_space']['latent_dim']['tune_parameters']\n",
    "            # print(tune_parameters)\n",
    "            if len(tune_parameters) != 2:\n",
    "                return False\n",
    "            if tune_parameters[0] != 2:\n",
    "                return False\n",
    "            if tune_parameters[1] != int(360*percentage/100)+1:\n",
    "                return False\n",
    "            return True\n",
    "    except UnboundLocalError as e:\n",
    "        # print(e.with_traceback())\n",
    "        print('Not found tune_parameters')\n",
    "    return False"
   ]
  },
  {
   "cell_type": "markdown",
   "metadata": {},
   "source": [
    "### Do all experiments exist?"
   ]
  },
  {
   "cell_type": "code",
   "execution_count": 144,
   "metadata": {},
   "outputs": [],
   "source": [
    "data = []\n",
    "for dataset in datasets:\n",
    "    for model in models:\n",
    "        for percentage in percentages:\n",
    "            experiment_route = experiment_name_template.format(model=model, dataset=dataset, percentage=percentage)\n",
    "            if model != 'umap':\n",
    "                experiment_route = 'P10_' + experiment_route\n",
    "            experiment_route = '../../experiments/' + experiment_route + '/'\n",
    "            does_experiment_route_exist = os.path.exists(experiment_route)\n",
    "            does_base_config_route_exist = False\n",
    "            does_exploration_config_route_exist = False\n",
    "            if does_experiment_route_exist:\n",
    "                base_config_route = experiment_route + 'base_config.yaml'\n",
    "                exploration_config_route = experiment_route + 'exploration_config.yaml'\n",
    "                does_base_config_route_exist = os.path.exists(base_config_route)\n",
    "                does_exploration_config_route_exist = os.path.exists(exploration_config_route)\n",
    "            \n",
    "            new_object = {\n",
    "                'model': model,\n",
    "                'dataset': dataset,\n",
    "                'percentage': percentage,\n",
    "                'route': experiment_route,\n",
    "                'exists': does_experiment_route_exist,\n",
    "                'base_config': check_base_config_file(base_config_route, dataset),\n",
    "                'exploration_config': check_exploration_config_file(exploration_config_route, model, percentage)\n",
    "            }\n",
    "            data.append(new_object)\n"
   ]
  },
  {
   "cell_type": "code",
   "execution_count": 145,
   "metadata": {},
   "outputs": [
    {
     "data": {
      "text/plain": [
       "(0, 7)"
      ]
     },
     "execution_count": 145,
     "metadata": {},
     "output_type": "execute_result"
    }
   ],
   "source": [
    "df = pd.DataFrame(data)\n",
    "df = df[df['exists'] == False]\n",
    "df.shape"
   ]
  },
  {
   "cell_type": "code",
   "execution_count": 146,
   "metadata": {},
   "outputs": [
    {
     "name": "stdout",
     "output_type": "stream",
     "text": [
      "+---------+-----------+--------------+---------+----------+---------------+----------------------+\n",
      "| model   | dataset   | percentage   | route   | exists   | base_config   | exploration_config   |\n",
      "|---------+-----------+--------------+---------+----------+---------------+----------------------|\n",
      "+---------+-----------+--------------+---------+----------+---------------+----------------------+\n"
     ]
    }
   ],
   "source": [
    "print(tabulate(df, headers='keys', tablefmt='psql'))"
   ]
  },
  {
   "cell_type": "markdown",
   "metadata": {},
   "source": [
    "### Asserting values in experiments"
   ]
  },
  {
   "cell_type": "code",
   "execution_count": 147,
   "metadata": {},
   "outputs": [
    {
     "data": {
      "text/plain": [
       "(0, 7)"
      ]
     },
     "execution_count": 147,
     "metadata": {},
     "output_type": "execute_result"
    }
   ],
   "source": [
    "df = pd.DataFrame(data)\n",
    "df = df[(df['base_config'] == False) | (df['exploration_config'] == False)]\n",
    "df.shape"
   ]
  },
  {
   "cell_type": "code",
   "execution_count": 148,
   "metadata": {},
   "outputs": [
    {
     "name": "stdout",
     "output_type": "stream",
     "text": [
      "+---------+-----------+--------------+---------+----------+---------------+----------------------+\n",
      "| model   | dataset   | percentage   | route   | exists   | base_config   | exploration_config   |\n",
      "|---------+-----------+--------------+---------+----------+---------------+----------------------|\n",
      "+---------+-----------+--------------+---------+----------+---------------+----------------------+\n"
     ]
    }
   ],
   "source": [
    "print(tabulate(df, headers='keys', tablefmt='psql'))"
   ]
  },
  {
   "cell_type": "code",
   "execution_count": 149,
   "metadata": {},
   "outputs": [
    {
     "ename": "SyntaxError",
     "evalue": "invalid syntax (1639551396.py, line 1)",
     "output_type": "error",
     "traceback": [
      "\u001b[1;36m  Cell \u001b[1;32mIn[149], line 1\u001b[1;36m\u001b[0m\n\u001b[1;33m    alpha = np.mean(y) -\u001b[0m\n\u001b[1;37m                         ^\u001b[0m\n\u001b[1;31mSyntaxError\u001b[0m\u001b[1;31m:\u001b[0m invalid syntax\n"
     ]
    }
   ],
   "source": [
    "alpha = np.mean(y) - "
   ]
  },
  {
   "cell_type": "code",
   "execution_count": null,
   "metadata": {},
   "outputs": [
    {
     "name": "stdout",
     "output_type": "stream",
     "text": [
      "0.7\n"
     ]
    }
   ],
   "source": [
    "beta = np.sum((x - np.mean(x)) * (y - np.mean(y))) / np.sum((x - np.mean(x)) ** 2)\n",
    "print(beta)"
   ]
  },
  {
   "cell_type": "code",
   "execution_count": null,
   "metadata": {},
   "outputs": [
    {
     "data": {
      "text/plain": [
       "0.6727272727272727"
      ]
     },
     "execution_count": 7,
     "metadata": {},
     "output_type": "execute_result"
    }
   ],
   "source": [
    "beta = np.sum(x*y) / np.sum(x**2)\n",
    "beta"
   ]
  },
  {
   "cell_type": "code",
   "execution_count": null,
   "metadata": {},
   "outputs": [
    {
     "data": {
      "text/plain": [
       "-0.018181818181818077"
      ]
     },
     "execution_count": 8,
     "metadata": {},
     "output_type": "execute_result"
    }
   ],
   "source": [
    "alpha = np.mean(y) - beta * np.mean(x)\n",
    "alpha"
   ]
  },
  {
   "cell_type": "code",
   "execution_count": null,
   "metadata": {},
   "outputs": [
    {
     "data": {
      "text/plain": [
       "array([ 20, 190, 360])"
      ]
     },
     "execution_count": 22,
     "metadata": {},
     "output_type": "execute_result"
    }
   ],
   "source": [
    "import numpy as np\n",
    "hd = 360\n",
    "ls = 20\n",
    "numHL = 2\n",
    "dimensions = np.linspace(hd, ls, numHL+1).round().astype(int)\n",
    "dimensions[::-1]"
   ]
  }
 ],
 "metadata": {
  "kernelspec": {
   "display_name": "Python 3",
   "language": "python",
   "name": "python3"
  },
  "language_info": {
   "codemirror_mode": {
    "name": "ipython",
    "version": 3
   },
   "file_extension": ".py",
   "mimetype": "text/x-python",
   "name": "python",
   "nbconvert_exporter": "python",
   "pygments_lexer": "ipython3",
   "version": "3.11.6"
  },
  "orig_nbformat": 4
 },
 "nbformat": 4,
 "nbformat_minor": 2
}
