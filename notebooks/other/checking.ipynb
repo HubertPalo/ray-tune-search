{
 "cells": [
  {
   "cell_type": "markdown",
   "metadata": {},
   "source": [
    "# Checking the experiments are ok"
   ]
  },
  {
   "cell_type": "code",
   "execution_count": 235,
   "metadata": {},
   "outputs": [],
   "source": [
    "import os\n",
    "from tabulate import tabulate\n",
    "import pandas as pd\n",
    "import yaml"
   ]
  },
  {
   "cell_type": "markdown",
   "metadata": {},
   "source": [
    "## Checking the datasets"
   ]
  },
  {
   "cell_type": "code",
   "execution_count": 236,
   "metadata": {},
   "outputs": [],
   "source": [
    "datasets = ['kuhar', 'motionsense', 'uci', 'wisdm', 'realworld_thigh', 'realworld_waist']\n",
    "models = ['umap', 'ae', 'tae', 'convae', 'convtae']\n",
    "criteria = {\n",
    "    'C1': 'Does the experiment route exists?',\n",
    "    'C2': 'Checking base config: 1 model, 1 dataset',\n",
    "    'C3': 'Check exploration config: latent dimension and percentage',\n",
    "    'C4': 'Did the experiment finished?',\n",
    "    'C4.1': 'Did the experiment finished with over 1000 iterations?',\n",
    "    'C4.2': 'Did the experiment finished without errors?',\n",
    "\n",
    "}\n",
    "percentages = [25, 50, 75, 100, 200]\n",
    "experiment_name_template = '{model}_{dataset}_p{percentage}'"
   ]
  },
  {
   "cell_type": "markdown",
   "metadata": {},
   "source": [
    "### Helper functions"
   ]
  },
  {
   "cell_type": "code",
   "execution_count": 259,
   "metadata": {},
   "outputs": [],
   "source": [
    "def check_base_config_file(route, dataset):\n",
    "    try:\n",
    "        # Read base config\n",
    "        with open(route, 'r') as f:\n",
    "            base_config = yaml.load(f, Loader=yaml.FullLoader)\n",
    "            # Only 1 reducer, train and test dataset\n",
    "            reducer_datasets = base_config['reducer_dataset']\n",
    "            train_datasets = base_config['train_dataset']\n",
    "            test_datasets = base_config['test_dataset']\n",
    "            if len(reducer_datasets) != 1:\n",
    "                return False\n",
    "            if len(train_datasets) != 1:\n",
    "                return False\n",
    "            if len(test_datasets) != 1:\n",
    "                return False\n",
    "            reducer_dataset = reducer_datasets[0].split('.')[0]\n",
    "            train_dataset = train_datasets[0].split('.')[0]\n",
    "            test_dataset = test_datasets[0].split('.')[0]\n",
    "            # Check if reducer, train and test dataset are the same as the ones in the experiment name\n",
    "            if reducer_dataset != dataset:\n",
    "                return False\n",
    "            if train_dataset != dataset:\n",
    "                return False\n",
    "            if test_dataset != dataset:\n",
    "                return False\n",
    "            return True\n",
    "            # print(reducer_dataset, base_config['train_dataset'], base_config['test_dataset'], dataset)\n",
    "    except Exception as e:\n",
    "        print(e)\n",
    "        print('Error reading config files')\n",
    "    return False\n",
    "\n",
    "def check_exploration_config_file(route, reducer, percentage):\n",
    "    try:\n",
    "        # Read exploration config\n",
    "        with open(route, 'r') as f:\n",
    "            exploration_config = yaml.load(f, Loader=yaml.FullLoader)\n",
    "            if reducer == 'umap':\n",
    "                tune_parameters = exploration_config['search_space']['umap_ncomp']['tune_parameters']\n",
    "            else:\n",
    "                tune_parameters = exploration_config['search_space']['latent_dim']['tune_parameters']\n",
    "            # print(tune_parameters)\n",
    "            if len(tune_parameters) != 2:\n",
    "                return False\n",
    "            if tune_parameters[0] != 2:\n",
    "                return False\n",
    "            if tune_parameters[1] != int(360*percentage/100)+1:\n",
    "                return False\n",
    "            return True\n",
    "    except UnboundLocalError as e:\n",
    "        # print(e.with_traceback())\n",
    "        print('Not found tune_parameters')\n",
    "    return False\n",
    "\n",
    "def check_4_1(route):\n",
    "    # Did the experiment finished with over 1000 iterations?\n",
    "    try:\n",
    "        data = pd.read_csv(route)\n",
    "        if len(data) < 1000:\n",
    "            return False\n",
    "        return True\n",
    "    except Exception as e:\n",
    "        # print(e)\n",
    "        # print('Error reading data file')\n",
    "        return False\n",
    "    return False\n",
    "\n",
    "def check_4_2(route):\n",
    "    # Did the experiment finished without errors?\n",
    "    try:\n",
    "        data = pd.read_csv(route)\n",
    "        if len(data) > 0:\n",
    "            return False\n",
    "        return True\n",
    "    except Exception as e:\n",
    "        # print(e)\n",
    "        # print('Error reading data file')\n",
    "        return False\n",
    "    return False"
   ]
  },
  {
   "cell_type": "markdown",
   "metadata": {},
   "source": [
    "### Do all experiments exist?"
   ]
  },
  {
   "cell_type": "code",
   "execution_count": 260,
   "metadata": {},
   "outputs": [],
   "source": [
    "data = []\n",
    "for dataset in datasets:\n",
    "    for model in models:\n",
    "        for percentage in percentages:\n",
    "            experiment_route = experiment_name_template.format(model=model, dataset=dataset, percentage=percentage)\n",
    "            if model != 'umap':\n",
    "                experiment_route = 'P10_' + experiment_route\n",
    "            experiment_route = '../../experiments/' + experiment_route + '/'\n",
    "            does_experiment_route_exist = os.path.exists(experiment_route)\n",
    "            does_base_config_route_exist = False\n",
    "            does_exploration_config_route_exist = False\n",
    "            does_best_config_exist = False\n",
    "            if does_experiment_route_exist:\n",
    "                base_config_route = experiment_route + 'base_config.yaml'\n",
    "                exploration_config_route = experiment_route + 'exploration_config.yaml'\n",
    "                does_base_config_route_exist = os.path.exists(base_config_route)\n",
    "                does_exploration_config_route_exist = os.path.exists(exploration_config_route)\n",
    "                does_data_exist = os.path.exists(experiment_route + 'data.csv')\n",
    "            new_object = {\n",
    "                'model': model,\n",
    "                'dataset': dataset,\n",
    "                'perc': percentage,\n",
    "                'route': experiment_route,\n",
    "                'C1': does_experiment_route_exist,\n",
    "                'C2': check_base_config_file(base_config_route, dataset),\n",
    "                'C3': check_exploration_config_file(exploration_config_route, model, percentage),\n",
    "                'C4': does_data_exist,\n",
    "                'C4.1': check_4_1(experiment_route + 'data.csv'),\n",
    "                'C4.2': check_4_2(experiment_route + 'callback_errors.csv'),\n",
    "            }\n",
    "            data.append(new_object)\n"
   ]
  },
  {
   "cell_type": "code",
   "execution_count": 250,
   "metadata": {},
   "outputs": [],
   "source": [
    "base_columns = ['model', 'dataset', 'perc', 'route']"
   ]
  },
  {
   "cell_type": "code",
   "execution_count": 247,
   "metadata": {},
   "outputs": [
    {
     "data": {
      "text/plain": [
       "(0, 8)"
      ]
     },
     "execution_count": 247,
     "metadata": {},
     "output_type": "execute_result"
    }
   ],
   "source": [
    "df = pd.DataFrame(data)\n",
    "df = df[df['C1'] == False]\n",
    "df.shape"
   ]
  },
  {
   "cell_type": "code",
   "execution_count": 248,
   "metadata": {},
   "outputs": [
    {
     "name": "stdout",
     "output_type": "stream",
     "text": [
      "+---------+-----------+--------+---------+------+------+------+------+\n",
      "| model   | dataset   | perc   | route   | C1   | C2   | C3   | C4   |\n",
      "|---------+-----------+--------+---------+------+------+------+------|\n",
      "+---------+-----------+--------+---------+------+------+------+------+\n"
     ]
    }
   ],
   "source": [
    "print(tabulate(df, headers='keys', tablefmt='psql'))"
   ]
  },
  {
   "cell_type": "markdown",
   "metadata": {},
   "source": [
    "### Asserting values in experiments"
   ]
  },
  {
   "cell_type": "code",
   "execution_count": null,
   "metadata": {},
   "outputs": [
    {
     "name": "stdout",
     "output_type": "stream",
     "text": [
      "+---------+-----------+--------+---------+---------------+----------------------+-------------------+\n",
      "| model   | dataset   | perc   | route   | base_config   | exploration_config   | does_data_exist   |\n",
      "|---------+-----------+--------+---------+---------------+----------------------+-------------------|\n",
      "+---------+-----------+--------+---------+---------------+----------------------+-------------------+\n"
     ]
    }
   ],
   "source": [
    "print(tabulate(df, headers='keys', tablefmt='psql'))"
   ]
  },
  {
   "cell_type": "markdown",
   "metadata": {},
   "source": [
    "### How many experiments are left per model?"
   ]
  },
  {
   "cell_type": "code",
   "execution_count": 254,
   "metadata": {},
   "outputs": [
    {
     "name": "stdout",
     "output_type": "stream",
     "text": [
      "Did the experiment finished?\n"
     ]
    }
   ],
   "source": [
    "print(criteria['C4'])"
   ]
  },
  {
   "cell_type": "code",
   "execution_count": 263,
   "metadata": {},
   "outputs": [
    {
     "name": "stdout",
     "output_type": "stream",
     "text": [
      "(150, 7)\n",
      "+-----+---------+-----------------+--------+-----------------------------------------------------+-------+--------+--------+\n",
      "|     | model   | dataset         |   perc | route                                               | C4    | C4.1   | C4.2   |\n",
      "|-----+---------+-----------------+--------+-----------------------------------------------------+-------+--------+--------|\n",
      "|   0 | umap    | kuhar           |     25 | ../../experiments/umap_kuhar_p25/                   | True  | True   | False  |\n",
      "|   1 | umap    | kuhar           |     50 | ../../experiments/umap_kuhar_p50/                   | True  | True   | False  |\n",
      "|   2 | umap    | kuhar           |     75 | ../../experiments/umap_kuhar_p75/                   | True  | True   | False  |\n",
      "|   3 | umap    | kuhar           |    100 | ../../experiments/umap_kuhar_p100/                  | True  | True   | False  |\n",
      "|   4 | umap    | kuhar           |    200 | ../../experiments/umap_kuhar_p200/                  | True  | True   | False  |\n",
      "|   5 | ae      | kuhar           |     25 | ../../experiments/P10_ae_kuhar_p25/                 | True  | True   | False  |\n",
      "|   6 | ae      | kuhar           |     50 | ../../experiments/P10_ae_kuhar_p50/                 | True  | True   | False  |\n",
      "|   7 | ae      | kuhar           |     75 | ../../experiments/P10_ae_kuhar_p75/                 | True  | True   | False  |\n",
      "|   8 | ae      | kuhar           |    100 | ../../experiments/P10_ae_kuhar_p100/                | True  | True   | False  |\n",
      "|   9 | ae      | kuhar           |    200 | ../../experiments/P10_ae_kuhar_p200/                | True  | True   | False  |\n",
      "|  10 | tae     | kuhar           |     25 | ../../experiments/P10_tae_kuhar_p25/                | True  | True   | False  |\n",
      "|  11 | tae     | kuhar           |     50 | ../../experiments/P10_tae_kuhar_p50/                | True  | True   | False  |\n",
      "|  12 | tae     | kuhar           |     75 | ../../experiments/P10_tae_kuhar_p75/                | True  | True   | False  |\n",
      "|  13 | tae     | kuhar           |    100 | ../../experiments/P10_tae_kuhar_p100/               | True  | True   | False  |\n",
      "|  14 | tae     | kuhar           |    200 | ../../experiments/P10_tae_kuhar_p200/               | True  | True   | False  |\n",
      "|  15 | convae  | kuhar           |     25 | ../../experiments/P10_convae_kuhar_p25/             | True  | True   | False  |\n",
      "|  16 | convae  | kuhar           |     50 | ../../experiments/P10_convae_kuhar_p50/             | True  | True   | False  |\n",
      "|  17 | convae  | kuhar           |     75 | ../../experiments/P10_convae_kuhar_p75/             | True  | True   | False  |\n",
      "|  18 | convae  | kuhar           |    100 | ../../experiments/P10_convae_kuhar_p100/            | True  | True   | False  |\n",
      "|  19 | convae  | kuhar           |    200 | ../../experiments/P10_convae_kuhar_p200/            | True  | True   | False  |\n",
      "|  20 | convtae | kuhar           |     25 | ../../experiments/P10_convtae_kuhar_p25/            | True  | True   | False  |\n",
      "|  21 | convtae | kuhar           |     50 | ../../experiments/P10_convtae_kuhar_p50/            | True  | True   | False  |\n",
      "|  22 | convtae | kuhar           |     75 | ../../experiments/P10_convtae_kuhar_p75/            | True  | True   | False  |\n",
      "|  23 | convtae | kuhar           |    100 | ../../experiments/P10_convtae_kuhar_p100/           | True  | True   | False  |\n",
      "|  24 | convtae | kuhar           |    200 | ../../experiments/P10_convtae_kuhar_p200/           | False | False  | False  |\n",
      "|  25 | umap    | motionsense     |     25 | ../../experiments/umap_motionsense_p25/             | True  | True   | False  |\n",
      "|  26 | umap    | motionsense     |     50 | ../../experiments/umap_motionsense_p50/             | True  | True   | False  |\n",
      "|  27 | umap    | motionsense     |     75 | ../../experiments/umap_motionsense_p75/             | True  | True   | False  |\n",
      "|  28 | umap    | motionsense     |    100 | ../../experiments/umap_motionsense_p100/            | True  | True   | False  |\n",
      "|  29 | umap    | motionsense     |    200 | ../../experiments/umap_motionsense_p200/            | True  | True   | False  |\n",
      "|  30 | ae      | motionsense     |     25 | ../../experiments/P10_ae_motionsense_p25/           | True  | True   | False  |\n",
      "|  31 | ae      | motionsense     |     50 | ../../experiments/P10_ae_motionsense_p50/           | True  | True   | False  |\n",
      "|  32 | ae      | motionsense     |     75 | ../../experiments/P10_ae_motionsense_p75/           | True  | True   | False  |\n",
      "|  33 | ae      | motionsense     |    100 | ../../experiments/P10_ae_motionsense_p100/          | True  | True   | False  |\n",
      "|  34 | ae      | motionsense     |    200 | ../../experiments/P10_ae_motionsense_p200/          | True  | True   | False  |\n",
      "|  35 | tae     | motionsense     |     25 | ../../experiments/P10_tae_motionsense_p25/          | True  | True   | False  |\n",
      "|  36 | tae     | motionsense     |     50 | ../../experiments/P10_tae_motionsense_p50/          | True  | True   | False  |\n",
      "|  37 | tae     | motionsense     |     75 | ../../experiments/P10_tae_motionsense_p75/          | True  | True   | False  |\n",
      "|  38 | tae     | motionsense     |    100 | ../../experiments/P10_tae_motionsense_p100/         | True  | True   | False  |\n",
      "|  39 | tae     | motionsense     |    200 | ../../experiments/P10_tae_motionsense_p200/         | True  | True   | False  |\n",
      "|  40 | convae  | motionsense     |     25 | ../../experiments/P10_convae_motionsense_p25/       | False | False  | False  |\n",
      "|  41 | convae  | motionsense     |     50 | ../../experiments/P10_convae_motionsense_p50/       | False | False  | False  |\n",
      "|  42 | convae  | motionsense     |     75 | ../../experiments/P10_convae_motionsense_p75/       | False | False  | False  |\n",
      "|  43 | convae  | motionsense     |    100 | ../../experiments/P10_convae_motionsense_p100/      | False | False  | False  |\n",
      "|  44 | convae  | motionsense     |    200 | ../../experiments/P10_convae_motionsense_p200/      | False | False  | False  |\n",
      "|  45 | convtae | motionsense     |     25 | ../../experiments/P10_convtae_motionsense_p25/      | True  | True   | False  |\n",
      "|  46 | convtae | motionsense     |     50 | ../../experiments/P10_convtae_motionsense_p50/      | True  | True   | False  |\n",
      "|  47 | convtae | motionsense     |     75 | ../../experiments/P10_convtae_motionsense_p75/      | True  | False  | False  |\n",
      "|  48 | convtae | motionsense     |    100 | ../../experiments/P10_convtae_motionsense_p100/     | True  | False  | False  |\n",
      "|  49 | convtae | motionsense     |    200 | ../../experiments/P10_convtae_motionsense_p200/     | True  | False  | False  |\n",
      "|  50 | umap    | uci             |     25 | ../../experiments/umap_uci_p25/                     | True  | True   | False  |\n",
      "|  51 | umap    | uci             |     50 | ../../experiments/umap_uci_p50/                     | True  | True   | False  |\n",
      "|  52 | umap    | uci             |     75 | ../../experiments/umap_uci_p75/                     | False | False  | False  |\n",
      "|  53 | umap    | uci             |    100 | ../../experiments/umap_uci_p100/                    | True  | True   | False  |\n",
      "|  54 | umap    | uci             |    200 | ../../experiments/umap_uci_p200/                    | True  | True   | False  |\n",
      "|  55 | ae      | uci             |     25 | ../../experiments/P10_ae_uci_p25/                   | True  | True   | False  |\n",
      "|  56 | ae      | uci             |     50 | ../../experiments/P10_ae_uci_p50/                   | True  | True   | False  |\n",
      "|  57 | ae      | uci             |     75 | ../../experiments/P10_ae_uci_p75/                   | True  | True   | False  |\n",
      "|  58 | ae      | uci             |    100 | ../../experiments/P10_ae_uci_p100/                  | True  | True   | False  |\n",
      "|  59 | ae      | uci             |    200 | ../../experiments/P10_ae_uci_p200/                  | True  | True   | False  |\n",
      "|  60 | tae     | uci             |     25 | ../../experiments/P10_tae_uci_p25/                  | True  | True   | False  |\n",
      "|  61 | tae     | uci             |     50 | ../../experiments/P10_tae_uci_p50/                  | True  | True   | False  |\n",
      "|  62 | tae     | uci             |     75 | ../../experiments/P10_tae_uci_p75/                  | True  | True   | False  |\n",
      "|  63 | tae     | uci             |    100 | ../../experiments/P10_tae_uci_p100/                 | True  | True   | False  |\n",
      "|  64 | tae     | uci             |    200 | ../../experiments/P10_tae_uci_p200/                 | True  | True   | False  |\n",
      "|  65 | convae  | uci             |     25 | ../../experiments/P10_convae_uci_p25/               | False | False  | False  |\n",
      "|  66 | convae  | uci             |     50 | ../../experiments/P10_convae_uci_p50/               | False | False  | False  |\n",
      "|  67 | convae  | uci             |     75 | ../../experiments/P10_convae_uci_p75/               | False | False  | False  |\n",
      "|  68 | convae  | uci             |    100 | ../../experiments/P10_convae_uci_p100/              | False | False  | False  |\n",
      "|  69 | convae  | uci             |    200 | ../../experiments/P10_convae_uci_p200/              | False | False  | False  |\n",
      "|  70 | convtae | uci             |     25 | ../../experiments/P10_convtae_uci_p25/              | False | False  | False  |\n",
      "|  71 | convtae | uci             |     50 | ../../experiments/P10_convtae_uci_p50/              | False | False  | False  |\n",
      "|  72 | convtae | uci             |     75 | ../../experiments/P10_convtae_uci_p75/              | False | False  | False  |\n",
      "|  73 | convtae | uci             |    100 | ../../experiments/P10_convtae_uci_p100/             | False | False  | False  |\n",
      "|  74 | convtae | uci             |    200 | ../../experiments/P10_convtae_uci_p200/             | False | False  | False  |\n",
      "|  75 | umap    | wisdm           |     25 | ../../experiments/umap_wisdm_p25/                   | True  | True   | False  |\n",
      "|  76 | umap    | wisdm           |     50 | ../../experiments/umap_wisdm_p50/                   | True  | True   | False  |\n",
      "|  77 | umap    | wisdm           |     75 | ../../experiments/umap_wisdm_p75/                   | True  | True   | False  |\n",
      "|  78 | umap    | wisdm           |    100 | ../../experiments/umap_wisdm_p100/                  | True  | True   | False  |\n",
      "|  79 | umap    | wisdm           |    200 | ../../experiments/umap_wisdm_p200/                  | True  | True   | False  |\n",
      "|  80 | ae      | wisdm           |     25 | ../../experiments/P10_ae_wisdm_p25/                 | True  | True   | False  |\n",
      "|  81 | ae      | wisdm           |     50 | ../../experiments/P10_ae_wisdm_p50/                 | True  | True   | False  |\n",
      "|  82 | ae      | wisdm           |     75 | ../../experiments/P10_ae_wisdm_p75/                 | False | False  | False  |\n",
      "|  83 | ae      | wisdm           |    100 | ../../experiments/P10_ae_wisdm_p100/                | False | False  | False  |\n",
      "|  84 | ae      | wisdm           |    200 | ../../experiments/P10_ae_wisdm_p200/                | False | False  | False  |\n",
      "|  85 | tae     | wisdm           |     25 | ../../experiments/P10_tae_wisdm_p25/                | False | False  | False  |\n",
      "|  86 | tae     | wisdm           |     50 | ../../experiments/P10_tae_wisdm_p50/                | False | False  | False  |\n",
      "|  87 | tae     | wisdm           |     75 | ../../experiments/P10_tae_wisdm_p75/                | False | False  | False  |\n",
      "|  88 | tae     | wisdm           |    100 | ../../experiments/P10_tae_wisdm_p100/               | False | False  | False  |\n",
      "|  89 | tae     | wisdm           |    200 | ../../experiments/P10_tae_wisdm_p200/               | False | False  | False  |\n",
      "|  90 | convae  | wisdm           |     25 | ../../experiments/P10_convae_wisdm_p25/             | True  | True   | False  |\n",
      "|  91 | convae  | wisdm           |     50 | ../../experiments/P10_convae_wisdm_p50/             | True  | True   | False  |\n",
      "|  92 | convae  | wisdm           |     75 | ../../experiments/P10_convae_wisdm_p75/             | True  | True   | False  |\n",
      "|  93 | convae  | wisdm           |    100 | ../../experiments/P10_convae_wisdm_p100/            | False | False  | False  |\n",
      "|  94 | convae  | wisdm           |    200 | ../../experiments/P10_convae_wisdm_p200/            | False | False  | False  |\n",
      "|  95 | convtae | wisdm           |     25 | ../../experiments/P10_convtae_wisdm_p25/            | True  | True   | False  |\n",
      "|  96 | convtae | wisdm           |     50 | ../../experiments/P10_convtae_wisdm_p50/            | True  | True   | False  |\n",
      "|  97 | convtae | wisdm           |     75 | ../../experiments/P10_convtae_wisdm_p75/            | False | False  | False  |\n",
      "|  98 | convtae | wisdm           |    100 | ../../experiments/P10_convtae_wisdm_p100/           | False | False  | False  |\n",
      "|  99 | convtae | wisdm           |    200 | ../../experiments/P10_convtae_wisdm_p200/           | False | False  | False  |\n",
      "| 100 | umap    | realworld_thigh |     25 | ../../experiments/umap_realworld_thigh_p25/         | True  | True   | False  |\n",
      "| 101 | umap    | realworld_thigh |     50 | ../../experiments/umap_realworld_thigh_p50/         | True  | True   | False  |\n",
      "| 102 | umap    | realworld_thigh |     75 | ../../experiments/umap_realworld_thigh_p75/         | True  | True   | False  |\n",
      "| 103 | umap    | realworld_thigh |    100 | ../../experiments/umap_realworld_thigh_p100/        | True  | True   | False  |\n",
      "| 104 | umap    | realworld_thigh |    200 | ../../experiments/umap_realworld_thigh_p200/        | True  | True   | False  |\n",
      "| 105 | ae      | realworld_thigh |     25 | ../../experiments/P10_ae_realworld_thigh_p25/       | False | False  | False  |\n",
      "| 106 | ae      | realworld_thigh |     50 | ../../experiments/P10_ae_realworld_thigh_p50/       | False | False  | False  |\n",
      "| 107 | ae      | realworld_thigh |     75 | ../../experiments/P10_ae_realworld_thigh_p75/       | False | False  | False  |\n",
      "| 108 | ae      | realworld_thigh |    100 | ../../experiments/P10_ae_realworld_thigh_p100/      | False | False  | False  |\n",
      "| 109 | ae      | realworld_thigh |    200 | ../../experiments/P10_ae_realworld_thigh_p200/      | False | False  | False  |\n",
      "| 110 | tae     | realworld_thigh |     25 | ../../experiments/P10_tae_realworld_thigh_p25/      | False | False  | False  |\n",
      "| 111 | tae     | realworld_thigh |     50 | ../../experiments/P10_tae_realworld_thigh_p50/      | False | False  | False  |\n",
      "| 112 | tae     | realworld_thigh |     75 | ../../experiments/P10_tae_realworld_thigh_p75/      | False | False  | False  |\n",
      "| 113 | tae     | realworld_thigh |    100 | ../../experiments/P10_tae_realworld_thigh_p100/     | False | False  | False  |\n",
      "| 114 | tae     | realworld_thigh |    200 | ../../experiments/P10_tae_realworld_thigh_p200/     | False | False  | False  |\n",
      "| 115 | convae  | realworld_thigh |     25 | ../../experiments/P10_convae_realworld_thigh_p25/   | False | False  | False  |\n",
      "| 116 | convae  | realworld_thigh |     50 | ../../experiments/P10_convae_realworld_thigh_p50/   | False | False  | False  |\n",
      "| 117 | convae  | realworld_thigh |     75 | ../../experiments/P10_convae_realworld_thigh_p75/   | False | False  | False  |\n",
      "| 118 | convae  | realworld_thigh |    100 | ../../experiments/P10_convae_realworld_thigh_p100/  | False | False  | False  |\n",
      "| 119 | convae  | realworld_thigh |    200 | ../../experiments/P10_convae_realworld_thigh_p200/  | False | False  | False  |\n",
      "| 120 | convtae | realworld_thigh |     25 | ../../experiments/P10_convtae_realworld_thigh_p25/  | True  | True   | False  |\n",
      "| 121 | convtae | realworld_thigh |     50 | ../../experiments/P10_convtae_realworld_thigh_p50/  | False | False  | False  |\n",
      "| 122 | convtae | realworld_thigh |     75 | ../../experiments/P10_convtae_realworld_thigh_p75/  | False | False  | False  |\n",
      "| 123 | convtae | realworld_thigh |    100 | ../../experiments/P10_convtae_realworld_thigh_p100/ | False | False  | False  |\n",
      "| 124 | convtae | realworld_thigh |    200 | ../../experiments/P10_convtae_realworld_thigh_p200/ | False | False  | False  |\n",
      "| 125 | umap    | realworld_waist |     25 | ../../experiments/umap_realworld_waist_p25/         | True  | True   | False  |\n",
      "| 126 | umap    | realworld_waist |     50 | ../../experiments/umap_realworld_waist_p50/         | True  | True   | False  |\n",
      "| 127 | umap    | realworld_waist |     75 | ../../experiments/umap_realworld_waist_p75/         | True  | True   | False  |\n",
      "| 128 | umap    | realworld_waist |    100 | ../../experiments/umap_realworld_waist_p100/        | True  | True   | False  |\n",
      "| 129 | umap    | realworld_waist |    200 | ../../experiments/umap_realworld_waist_p200/        | True  | True   | False  |\n",
      "| 130 | ae      | realworld_waist |     25 | ../../experiments/P10_ae_realworld_waist_p25/       | False | False  | False  |\n",
      "| 131 | ae      | realworld_waist |     50 | ../../experiments/P10_ae_realworld_waist_p50/       | False | False  | False  |\n",
      "| 132 | ae      | realworld_waist |     75 | ../../experiments/P10_ae_realworld_waist_p75/       | False | False  | False  |\n",
      "| 133 | ae      | realworld_waist |    100 | ../../experiments/P10_ae_realworld_waist_p100/      | False | False  | False  |\n",
      "| 134 | ae      | realworld_waist |    200 | ../../experiments/P10_ae_realworld_waist_p200/      | False | False  | False  |\n",
      "| 135 | tae     | realworld_waist |     25 | ../../experiments/P10_tae_realworld_waist_p25/      | False | False  | False  |\n",
      "| 136 | tae     | realworld_waist |     50 | ../../experiments/P10_tae_realworld_waist_p50/      | False | False  | False  |\n",
      "| 137 | tae     | realworld_waist |     75 | ../../experiments/P10_tae_realworld_waist_p75/      | False | False  | False  |\n",
      "| 138 | tae     | realworld_waist |    100 | ../../experiments/P10_tae_realworld_waist_p100/     | False | False  | False  |\n",
      "| 139 | tae     | realworld_waist |    200 | ../../experiments/P10_tae_realworld_waist_p200/     | False | False  | False  |\n",
      "| 140 | convae  | realworld_waist |     25 | ../../experiments/P10_convae_realworld_waist_p25/   | False | False  | False  |\n",
      "| 141 | convae  | realworld_waist |     50 | ../../experiments/P10_convae_realworld_waist_p50/   | False | False  | False  |\n",
      "| 142 | convae  | realworld_waist |     75 | ../../experiments/P10_convae_realworld_waist_p75/   | False | False  | False  |\n",
      "| 143 | convae  | realworld_waist |    100 | ../../experiments/P10_convae_realworld_waist_p100/  | False | False  | False  |\n",
      "| 144 | convae  | realworld_waist |    200 | ../../experiments/P10_convae_realworld_waist_p200/  | False | False  | False  |\n",
      "| 145 | convtae | realworld_waist |     25 | ../../experiments/P10_convtae_realworld_waist_p25/  | True  | True   | False  |\n",
      "| 146 | convtae | realworld_waist |     50 | ../../experiments/P10_convtae_realworld_waist_p50/  | False | False  | False  |\n",
      "| 147 | convtae | realworld_waist |     75 | ../../experiments/P10_convtae_realworld_waist_p75/  | False | False  | False  |\n",
      "| 148 | convtae | realworld_waist |    100 | ../../experiments/P10_convtae_realworld_waist_p100/ | False | False  | False  |\n",
      "| 149 | convtae | realworld_waist |    200 | ../../experiments/P10_convtae_realworld_waist_p200/ | False | False  | False  |\n",
      "+-----+---------+-----------------+--------+-----------------------------------------------------+-------+--------+--------+\n"
     ]
    }
   ],
   "source": [
    "df = pd.DataFrame(data)\n",
    "df = df[base_columns + ['C4', 'C4.1', 'C4.2']]\n",
    "# df.sort_values(by=['model', 'dataset', 'perc'], inplace=True)\n",
    "# df = df[(df['C4'] == False)]\n",
    "print(df.shape)\n",
    "print(tabulate(df, headers='keys', tablefmt='psql'))"
   ]
  }
 ],
 "metadata": {
  "kernelspec": {
   "display_name": "Python 3",
   "language": "python",
   "name": "python3"
  },
  "language_info": {
   "codemirror_mode": {
    "name": "ipython",
    "version": 3
   },
   "file_extension": ".py",
   "mimetype": "text/x-python",
   "name": "python",
   "nbconvert_exporter": "python",
   "pygments_lexer": "ipython3",
   "version": "3.11.6"
  },
  "orig_nbformat": 4
 },
 "nbformat": 4,
 "nbformat_minor": 2
}
