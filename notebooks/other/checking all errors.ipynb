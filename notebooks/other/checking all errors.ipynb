{
 "cells": [
  {
   "cell_type": "markdown",
   "metadata": {},
   "source": [
    "# Checking the experiments are ok"
   ]
  },
  {
   "cell_type": "code",
   "execution_count": 40,
   "metadata": {},
   "outputs": [],
   "source": [
    "import os\n",
    "from tabulate import tabulate\n",
    "import pandas as pd\n",
    "import yaml"
   ]
  },
  {
   "cell_type": "code",
   "execution_count": 45,
   "metadata": {},
   "outputs": [],
   "source": [
    "def generate_experiments_list(\n",
    "        models=['ae', 'tae', 'convae', 'convtae', 'umap'],\n",
    "        datasets=['kuhar', 'motionsense', 'uci', 'wisdm', 'realworld_thigh', 'realworld_waist'],\n",
    "        percentages=[25, 50, 75, 100, 200]\n",
    "    ):\n",
    "    experiment_name_template = '{model}_{dataset}_p{percentage}'\n",
    "    experiments = []\n",
    "    for model in models:\n",
    "        for dataset in datasets:\n",
    "            for percentage in percentages:\n",
    "                experiment_name = experiment_name_template.format(model=model, dataset=dataset, percentage=percentage)\n",
    "                if model != 'umap':\n",
    "                    experiment_name = 'P10_' + experiment_name\n",
    "                experiments.append(experiment_name)\n",
    "    return experiments\n",
    "\n",
    "def does_experiment_have_folder(experiment):\n",
    "    experiment_route = f'../../experiments/{experiment}/'\n",
    "    return os.path.exists(experiment_route)\n",
    "\n",
    "def does_experiment_have_callback_errors_file(experiment):\n",
    "    return os.path.exists(f'../../experiments/{experiment}/callback_errors.csv')\n",
    "\n",
    "def does_experiment_have_too_much_callback_errors(experiment):\n",
    "    try:\n",
    "        callback_errors = pd.read_csv(f'../../experiments/{experiment}/callback_errors.csv')\n",
    "        return len(callback_errors) > 100\n",
    "    except:\n",
    "        return False\n",
    "\n",
    "def print_callback_errors(experiment):\n",
    "    callback_errors = pd.read_csv(f'../../experiments/{experiment}/callback_errors.csv')\n",
    "    print(tabulate(callback_errors, headers='keys', tablefmt='psql'))"
   ]
  },
  {
   "cell_type": "code",
   "execution_count": 44,
   "metadata": {},
   "outputs": [
    {
     "name": "stdout",
     "output_type": "stream",
     "text": [
      "+----+--------------------------------+---------+\n",
      "|    | experiment                     | check   |\n",
      "|----+--------------------------------+---------|\n",
      "| 38 | P10_convae_kuhar_p25           | True    |\n",
      "| 39 | P10_convae_kuhar_p50           | True    |\n",
      "| 40 | P10_convae_kuhar_p75           | True    |\n",
      "| 41 | P10_convae_kuhar_p100          | True    |\n",
      "| 42 | P10_convae_kuhar_p200          | True    |\n",
      "| 53 | P10_convae_wisdm_p25           | True    |\n",
      "| 54 | P10_convae_wisdm_p50           | True    |\n",
      "| 55 | P10_convae_wisdm_p75           | True    |\n",
      "| 56 | P10_convae_wisdm_p100          | True    |\n",
      "| 57 | P10_convae_wisdm_p200          | True    |\n",
      "| 59 | P10_convae_realworld_thigh_p50 | True    |\n",
      "| 60 | P10_convae_realworld_thigh_p75 | True    |\n",
      "| 63 | P10_convtae_kuhar_p25          | True    |\n",
      "| 64 | P10_convtae_kuhar_p50          | True    |\n",
      "| 65 | P10_convtae_kuhar_p75          | True    |\n",
      "| 70 | P10_convtae_motionsense_p75    | True    |\n",
      "| 71 | P10_convtae_motionsense_p100   | True    |\n",
      "| 72 | P10_convtae_motionsense_p200   | True    |\n",
      "+----+--------------------------------+---------+\n"
     ]
    }
   ],
   "source": [
    "experiments = generate_experiments_list(models=['ae', 'tae', 'convae', 'convtae'])\n",
    "data = pd.DataFrame(\n",
    "    {\n",
    "        'experiment': experiments,\n",
    "        'check':[does_experiment_have_callback_errors_file(experiment) for experiment in experiments]\n",
    "    }\n",
    ")\n",
    "experiments = list(data[data['check'] == True]['experiment'].values)\n",
    "data = pd.DataFrame(\n",
    "    {\n",
    "        'experiment': experiments,\n",
    "        'check':[does_experiment_have_too_much_callback_errors(experiment) for experiment in experiments]\n",
    "    }\n",
    ")\n",
    "data = data[data['check'] == True]\n",
    "print(tabulate(data, headers='keys', tablefmt='psql'))"
   ]
  }
 ],
 "metadata": {
  "kernelspec": {
   "display_name": "Python 3",
   "language": "python",
   "name": "python3"
  },
  "language_info": {
   "codemirror_mode": {
    "name": "ipython",
    "version": 3
   },
   "file_extension": ".py",
   "mimetype": "text/x-python",
   "name": "python",
   "nbconvert_exporter": "python",
   "pygments_lexer": "ipython3",
   "version": "3.11.6"
  },
  "orig_nbformat": 4
 },
 "nbformat": 4,
 "nbformat_minor": 2
}
