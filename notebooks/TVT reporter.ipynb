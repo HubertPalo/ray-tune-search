{
 "cells": [
  {
   "cell_type": "code",
   "execution_count": 3,
   "metadata": {},
   "outputs": [],
   "source": [
    "import pandas as pd\n",
    "import yaml"
   ]
  },
  {
   "cell_type": "code",
   "execution_count": 4,
   "metadata": {},
   "outputs": [
    {
     "name": "stdout",
     "output_type": "stream",
     "text": [
      "kuhar 0.8041666666666666\n",
      "motionsense 0.8847457627118643\n",
      "uci 0.8908695652173912\n",
      "wisdm 0.7681972265023113\n",
      "realworld_thigh 0.6959972394755003\n",
      "realworld_waist 0.663233024691358\n"
     ]
    }
   ],
   "source": [
    "datasets = ['kuhar', 'motionsense', 'uci', 'wisdm', 'realworld_thigh', 'realworld_waist']\n",
    "for dataset in datasets:\n",
    "    with open(f'../execute_once_experiments/TVT_sb_no_reducer/scores/TVT_sb_no_reducer_{dataset}.yaml') as f:\n",
    "        scores = yaml.load(f, Loader=yaml.FullLoader)\n",
    "        print(dataset, scores['score'])\n",
    "    # df = pd.read_csv()\n",
    "    # df = df.drop(['Unnamed: 0'], axis=1)\n",
    "    # df.to_csv(f'../data/{dataset}_no_reducer.csv', index=False)"
   ]
  },
  {
   "cell_type": "code",
   "execution_count": 22,
   "metadata": {},
   "outputs": [
    {
     "name": "stdout",
     "output_type": "stream",
     "text": [
      "umap uci MAX-ALL 76.71\n",
      "\n",
      "ae uci MAX-ALL 79.53\n",
      "\n",
      "ae uci MAX-KNN 79.12\n",
      "ae uci MAX-SVM 79.41\n",
      "ae uci MAX-RF 79.53\n",
      "\n",
      "tae uci MAX-ALL 77.65\n",
      "\n",
      "tae uci MAX-KNN 72.06\n",
      "tae uci MAX-SVM 77.65\n",
      "tae uci MAX-RF 76.50\n",
      "\n",
      "convae uci MAX-ALL 82.26\n",
      "\n",
      "convae uci MAX-KNN 80.29\n",
      "convae uci MAX-SVM 81.18\n",
      "convae uci MAX-RF 82.26\n",
      "\n",
      "convtae uci MAX-ALL 83.26\n",
      "\n",
      "convtae uci MAX-KNN 81.18\n",
      "convtae uci MAX-SVM 80.88\n",
      "convtae uci MAX-RF 83.26\n",
      "\n"
     ]
    }
   ],
   "source": [
    "datasets = ['uci']\n",
    "models = ['umap', 'ae', 'tae', 'convae', 'convtae']\n",
    "percentages = [25, 50, 75, 100]\n",
    "\n",
    "for dataset in datasets:\n",
    "    for model in models:\n",
    "        model_knn = []\n",
    "        model_rf = []\n",
    "        model_svm = []\n",
    "        model_max = []\n",
    "        experiment_file_name = '{}_{}_p{}'\n",
    "        if model in ['ae', 'tae', 'convae', 'convtae']:\n",
    "            experiment_file_name = 'P10_' + experiment_file_name\n",
    "        for percentage in percentages:\n",
    "            experiment_file_name = experiment_file_name.format(model, dataset, percentage)\n",
    "            data = pd.read_csv('../experiments/'+ experiment_file_name + '/data.csv')\n",
    "            model_max.append(data['score'].max())\n",
    "            # print(experiment_file_name, data['score'].max())\n",
    "            try:\n",
    "                model_knn.append(data['KNN-5-accuracy (mean)'].max())\n",
    "                model_rf.append(data['randomforest-100-accuracy (mean)'].max())\n",
    "                model_svm.append(data['SVM-rbf-C1.0-accuracy (mean)'].max())\n",
    "            except:\n",
    "                pass\n",
    "        print(model, dataset, 'MAX-ALL', f'{(max(model_max)*100):.2f}\\n')\n",
    "        try:\n",
    "            print(model, dataset, 'MAX-KNN', f'{(max(model_knn)*100):.2f}')\n",
    "            print(model, dataset, 'MAX-SVM', f'{(max(model_svm)*100):.2f}')\n",
    "            print(model, dataset, 'MAX-RF', f'{(max(model_rf)*100):.2f}\\n')\n",
    "        except:\n",
    "            pass\n",
    "            # print(data.columns)\n",
    "            # print(experiment_file_name, data['score'].max())"
   ]
  }
 ],
 "metadata": {
  "kernelspec": {
   "display_name": "Python 3",
   "language": "python",
   "name": "python3"
  },
  "language_info": {
   "codemirror_mode": {
    "name": "ipython",
    "version": 3
   },
   "file_extension": ".py",
   "mimetype": "text/x-python",
   "name": "python",
   "nbconvert_exporter": "python",
   "pygments_lexer": "ipython3",
   "version": "3.11.6"
  }
 },
 "nbformat": 4,
 "nbformat_minor": 2
}
