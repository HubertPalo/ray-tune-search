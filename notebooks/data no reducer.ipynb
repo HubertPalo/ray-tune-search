{
 "cells": [
  {
   "cell_type": "code",
   "execution_count": 1,
   "metadata": {},
   "outputs": [],
   "source": [
    "import pandas as pd\n",
    "import yaml"
   ]
  },
  {
   "cell_type": "code",
   "execution_count": 4,
   "metadata": {},
   "outputs": [
    {
     "name": "stdout",
     "output_type": "stream",
     "text": [
      "kuhar 0.8041666666666666\n",
      "motionsense 0.8847457627118643\n",
      "uci 0.8908695652173912\n",
      "wisdm 0.7681972265023113\n",
      "realworld_thigh 0.6959972394755003\n",
      "realworld_waist 0.663233024691358\n"
     ]
    }
   ],
   "source": [
    "datasets = ['kuhar', 'motionsense', 'uci', 'wisdm', 'realworld_thigh', 'realworld_waist']\n",
    "for dataset in datasets:\n",
    "    with open(f'../execute_once_experiments/TVT_sb_no_reducer/scores/TVT_sb_no_reducer_{dataset}.yaml') as f:\n",
    "        scores = yaml.load(f, Loader=yaml.FullLoader)\n",
    "        print(dataset, scores['score'])\n",
    "    # df = pd.read_csv()\n",
    "    # df = df.drop(['Unnamed: 0'], axis=1)\n",
    "    # df.to_csv(f'../data/{dataset}_no_reducer.csv', index=False)"
   ]
  }
 ],
 "metadata": {
  "kernelspec": {
   "display_name": "Python 3",
   "language": "python",
   "name": "python3"
  },
  "language_info": {
   "codemirror_mode": {
    "name": "ipython",
    "version": 3
   },
   "file_extension": ".py",
   "mimetype": "text/x-python",
   "name": "python",
   "nbconvert_exporter": "python",
   "pygments_lexer": "ipython3",
   "version": "3.11.6"
  }
 },
 "nbformat": 4,
 "nbformat_minor": 2
}
